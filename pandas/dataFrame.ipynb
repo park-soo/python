{
 "cells": [
  {
   "attachments": {},
   "cell_type": "markdown",
   "metadata": {},
   "source": [
    "<h1>DataFrame 클래스</h1>\n",
    "2차원 행열 데이터에 인덱스를 붙인 것과 유사 2차원이므로 row index와 column index 공통 인덱스를 가지는 열 시리즈(column series)를 딕셔너리로 묶어놓은 것<br> \n",
    "class pandas.DataFrame(data=None, index=None, columns=None, copy=None) data : ndarray,Iterable,dict(Series,array,list 유사 object),DataFrame index : 인덱스 또는 배열 형태의 객체 미입력시 기본 인덱스(0,1...) columns : 인덱스 또는 배열 형태의 객체 미입력시 기본 인덱스(0,1...) dtype: 데이터 유형 copy: 데이터 수정시 인스턴스의 변경 여부"
   ]
  },
  {
   "cell_type": "code",
   "execution_count": 1,
   "metadata": {},
   "outputs": [
    {
     "name": "stdout",
     "output_type": "stream",
     "text": [
      "[[5 0]\n",
      " [3 3]]\n",
      "     0  1\n",
      "0  100  0\n",
      "1    3  3\n",
      "   0  1\n",
      "0  5  0\n",
      "1  3  3\n"
     ]
    }
   ],
   "source": [
    "import pandas as pd\n",
    "import numpy as np\n",
    "\n",
    " # 2*2 짜리 random array 생성\n",
    "np.random.seed(0)\n",
    "arr = np.random.randint(10, size=(2, 2)) \n",
    "print(arr)\n",
    "\n",
    "dfa=pd.DataFrame(arr,copy=False)\n",
    "dfb=pd.DataFrame(arr,copy=True)\n",
    "arr[0,0]=100\n",
    "print(dfa)\n",
    "print(dfb)"
   ]
  }
 ],
 "metadata": {
  "kernelspec": {
   "display_name": "Python 3",
   "language": "python",
   "name": "python3"
  },
  "language_info": {
   "codemirror_mode": {
    "name": "ipython",
    "version": 3
   },
   "file_extension": ".py",
   "mimetype": "text/x-python",
   "name": "python",
   "nbconvert_exporter": "python",
   "pygments_lexer": "ipython3",
   "version": "3.11.3"
  },
  "orig_nbformat": 4
 },
 "nbformat": 4,
 "nbformat_minor": 2
}
